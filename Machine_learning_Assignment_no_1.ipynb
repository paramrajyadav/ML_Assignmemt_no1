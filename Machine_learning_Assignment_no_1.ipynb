{
 "cells": [
  {
   "cell_type": "code",
   "execution_count": 1,
   "id": "67a02937",
   "metadata": {},
   "outputs": [],
   "source": [
    "# 1. What does one mean by the term machine learning?\n",
    "# Ans Machine learning is a method of data analysis that automates analytical model building. It is a branch of artificial intelligence based on the idea that systems can learn from data, \n",
    "# identify patterns and make decisions with minimal human intervention."
   ]
  },
  {
   "cell_type": "code",
   "execution_count": 2,
   "id": "6c49852b",
   "metadata": {},
   "outputs": [],
   "source": [
    "# 2.Can you think of 4 distinct types of issues where it shines?\n",
    "# Ans Image and speech recognition\n",
    "#     Natural language processing\n",
    "#     Predictive modeling and forecasting\n",
    "#     Anomaly detection and fraud detection."
   ]
  },
  {
   "cell_type": "code",
   "execution_count": 8,
   "id": "0fcc8737",
   "metadata": {},
   "outputs": [],
   "source": [
    "# 3.What is a labeled training set, and how does it work?\n",
    "\n",
    "\n",
    "# Ans A labeled training set is of a collection of input-output pairs where the input is typically a set of features or attributes of the data, \n",
    "# and the output is the label or target variable that the model is trying to predict.\n",
    "\n",
    "# The labeled training set is used to train a machine learning model by showing it a set of input-output pairs and adjusting the model's parameters\n",
    "# to minimize the error between the predicted output and the true output."
   ]
  },
  {
   "cell_type": "code",
   "execution_count": 9,
   "id": "5b05705c",
   "metadata": {},
   "outputs": [],
   "source": [
    "# 4.What are the two most important tasks that are supervised?\n",
    "\n",
    "\n",
    "# Ans Two important task that are supervised are classification and regression."
   ]
  },
  {
   "cell_type": "code",
   "execution_count": 10,
   "id": "1b77fcfc",
   "metadata": {},
   "outputs": [],
   "source": [
    "# 5.Can you think of four examples of unsupervised tasks?\n",
    "\n",
    "\n",
    "# Ans clustering, visualization, dimensionality reduction , and association rule learning"
   ]
  },
  {
   "cell_type": "code",
   "execution_count": 11,
   "id": "4134dc5b",
   "metadata": {},
   "outputs": [],
   "source": [
    "# 6.State the machine learning model that would be best to make a robot walk through various\n",
    "# unfamiliar terrains?\n",
    "\n",
    "\n",
    "# Ans The best machine learning model for making a \n",
    "# robot walk through various unfamiliar terrains would likely be a model that uses reinforcement learning."
   ]
  },
  {
   "cell_type": "code",
   "execution_count": 12,
   "id": "a5682a52",
   "metadata": {},
   "outputs": [],
   "source": [
    "# 7.Which algorithm will you use to divide your customers into different groups?\n",
    "\n",
    "# Ans Kmean clustering , Db Scan ,Gaussian Mixture Model (GMM),Hierarchical Clustering:"
   ]
  },
  {
   "cell_type": "code",
   "execution_count": null,
   "id": "4493ca62",
   "metadata": {},
   "outputs": [],
   "source": [
    "# 8.Will you consider the problem of spam detection to be a supervised or unsupervised learning\n",
    "#  problem?\n",
    "\n",
    "# Ans The problem of spam detection is typically considered to be a supervised learning problem"
   ]
  }
 ],
 "metadata": {
  "kernelspec": {
   "display_name": "Python 3 (ipykernel)",
   "language": "python",
   "name": "python3"
  },
  "language_info": {
   "codemirror_mode": {
    "name": "ipython",
    "version": 3
   },
   "file_extension": ".py",
   "mimetype": "text/x-python",
   "name": "python",
   "nbconvert_exporter": "python",
   "pygments_lexer": "ipython3",
   "version": "3.9.13"
  }
 },
 "nbformat": 4,
 "nbformat_minor": 5
}
